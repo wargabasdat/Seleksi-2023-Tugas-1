{
 "cells": [
  {
   "cell_type": "code",
   "execution_count": null,
   "metadata": {},
   "outputs": [],
   "source": [
    "import psycopg2\n",
    "import matplotlib.pyplot as plt\n",
    "\n",
    "# Membuat koneksi ke database PostgreSQL\n",
    "conn = psycopg2.connect(database=\"events\", user=\"postgres\", password=\"***************\", host=\"localhost\", port=\"5432\")\n",
    "\n",
    "# Membuat objek cursor\n",
    "cur = conn.cursor()\n",
    "\n"
   ]
  },
  {
   "cell_type": "code",
   "execution_count": null,
   "metadata": {},
   "outputs": [],
   "source": [
    "# Grafik Jumlah Event per Kategori\n",
    "\n",
    "cur.execute(\"select category.name, count (*) from event join category on event.category = category.id_category group by category.name;\")\n",
    "# Mengambil hasil query\n",
    "results = cur.fetchall()\n",
    "# Memisahkan data kategori dan jumlahnya\n",
    "categories = [row[0] for row in results]\n",
    "counts = [row[1] for row in results]\n",
    "# Membuat grafik batang menggunakan Matplotlib\n",
    "plt.bar(categories, counts)\n",
    "plt.xlabel('Kategori')\n",
    "plt.ylabel('Jumlah')\n",
    "plt.title('Grafik Jumlah Data per Kategori')\n",
    "plt.show()"
   ]
  },
  {
   "cell_type": "code",
   "execution_count": null,
   "metadata": {},
   "outputs": [],
   "source": [
    "# Tabel ID dan kategori\n",
    "import pandas as pd\n",
    "\n",
    "cur.execute(\"SELECT * FROM category;\")\n",
    "results = cur.fetchall()\n",
    "df = pd.DataFrame(results, columns=[\"id_category\", \"name\"])\n",
    "df"
   ]
  },
  {
   "cell_type": "code",
   "execution_count": null,
   "metadata": {},
   "outputs": [],
   "source": [
    "# Grafik Jumlah Event dari Waktu ke Waktu\n",
    "\n",
    "cur.execute(\"SELECT to_char(date, 'YYYY-MM') AS month, count(*) FROM event WHERE EXTRACT(YEAR FROM date) <= 2024 GROUP BY month ORDER BY month;\")\n",
    "results = cur.fetchall()\n",
    "date = [row[0] for row in results]\n",
    "counts = [row[1] for row in results]\n",
    "plt.style.use('ggplot')\n",
    "plt.style.use('dark_background')\n",
    "plt.plot(date, counts, marker='o', color=\"#db611f\")\n",
    "# Mengatur judul dan label sumbu\n",
    "plt.title(\"Jumlah Event per Bulan\")\n",
    "plt.xlabel(\"Bulan\")\n",
    "plt.ylabel(\"Jumlah Event\")\n",
    "# Menampilkan plot\n",
    "plt.show()"
   ]
  },
  {
   "cell_type": "code",
   "execution_count": null,
   "metadata": {},
   "outputs": [],
   "source": [
    "# Grafik Top 7 Organizer dengan Jumlah Event Terbanyak\n",
    "\n",
    "cur.execute(\"select organizer.name, count(*) from organizer join event on event.organizer = organizer.organizer_page group by organizer.name order by count(*) desc limit 7; \")\n",
    "results = cur.fetchall()\n",
    "organizer = [row[0] for row in results]\n",
    "counts = [row[1] for row in results]\n",
    "organizer = organizer[::-1]\n",
    "counts = counts[::-1]\n",
    "plt.style.use('ggplot')\n",
    "plt.style.use('dark_background')\n",
    "plt.barh(organizer, counts, height=0.5, color=\"#db611f\")\n",
    "# Mengatur label sumbu\n",
    "plt.xlabel('Jumlah Event')\n",
    "plt.ylabel('Organizer')\n",
    "plt.yticks(fontsize=8)\n",
    "# Mengatur judul plot\n",
    "plt.title('Top 7 Organizer dengan Jumlah Event Terbanyak')\n",
    "# Menampilkan plot\n",
    "plt.show()"
   ]
  },
  {
   "cell_type": "code",
   "execution_count": null,
   "metadata": {},
   "outputs": [],
   "source": [
    "# Grafik Top 5 Organizer Terpopuler\n",
    "\n",
    "cur.execute(\"select organizer.name, total_followers from organizer order by total_followers desc limit 5;\")\n",
    "results = cur.fetchall()\n",
    "organizer = [row[0] for row in results]\n",
    "counts = [row[1] for row in results]\n",
    "organizer = organizer[::-1]\n",
    "counts = counts[::-1]\n",
    "plt.style.use('ggplot')\n",
    "plt.style.use('dark_background')\n",
    "plt.barh(organizer, counts, height=0.5, color=\"#db611f\")\n",
    "# Mengatur label sumbu\n",
    "plt.xlabel('Total Followers')\n",
    "plt.ylabel('Organizer')\n",
    "plt.yticks(fontsize=8)\n",
    "# Mengatur judul plot\n",
    "plt.title('Top 5 Organizer Terpopuler')\n",
    "# Menampilkan plot\n",
    "plt.show()"
   ]
  },
  {
   "cell_type": "code",
   "execution_count": null,
   "metadata": {},
   "outputs": [],
   "source": [
    "# Menutup kursor dan koneksi\n",
    "cur.close()\n",
    "conn.close()"
   ]
  }
 ],
 "metadata": {
  "kernelspec": {
   "display_name": "Python 3",
   "language": "python",
   "name": "python3"
  },
  "language_info": {
   "codemirror_mode": {
    "name": "ipython",
    "version": 3
   },
   "file_extension": ".py",
   "mimetype": "text/x-python",
   "name": "python",
   "nbconvert_exporter": "python",
   "pygments_lexer": "ipython3",
   "version": "3.9.7"
  },
  "orig_nbformat": 4
 },
 "nbformat": 4,
 "nbformat_minor": 2
}

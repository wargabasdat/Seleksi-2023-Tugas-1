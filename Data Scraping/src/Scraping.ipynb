{
 "cells": [
  {
   "cell_type": "markdown",
   "metadata": {},
   "source": [
    "*Import modules*"
   ]
  },
  {
   "cell_type": "code",
   "execution_count": 200,
   "metadata": {},
   "outputs": [],
   "source": [
    "import pandas as pd   #to create dataframe\n",
    "import requests       #to send request to the URL\n",
    "from bs4 import BeautifulSoup #to get the content in the form of HTML"
   ]
  },
  {
   "cell_type": "code",
   "execution_count": 201,
   "metadata": {},
   "outputs": [],
   "source": [
    "url = 'https://www.imdb.com/search/title/?count=100&title_type=tv_series&genres=drama&ref_=adv_prv'\n",
    "response = requests.get(url)\n",
    "soup = BeautifulSoup(response.content, 'html.parser')"
   ]
  },
  {
   "cell_type": "code",
   "execution_count": 202,
   "metadata": {},
   "outputs": [],
   "source": [
    "rank = []\n",
    "series_title = []\n",
    "start_year = []\n",
    "end_year = []\n",
    "runtime = []\n",
    "genre = []\n",
    "rating = []\n",
    "votes = []\n",
    "description = []\n",
    "actors = []"
   ]
  },
  {
   "cell_type": "code",
   "execution_count": 203,
   "metadata": {},
   "outputs": [],
   "source": [
    "series_data = soup.findAll('div', attrs={'class' : 'lister-item mode-advanced'})"
   ]
  },
  {
   "cell_type": "code",
   "execution_count": 204,
   "metadata": {},
   "outputs": [],
   "source": [
    "for data in series_data:\n",
    "    rank_find = data.h3.find('span', class_ = 'lister-item-index unbold text-primary').text.replace('.','')\n",
    "    rank.append(rank_find)\n",
    "    \n",
    "    title = data.h3.a.text\n",
    "    series_title.append(title)\n",
    "\n",
    "    year_released = data.h3.find('span', class_ = 'lister-item-year text-muted unbold').text.replace('(','').replace(')','').strip()\n",
    "\n",
    "    splitted = year_released.split('–')\n",
    "    if len(splitted) > 1 :\n",
    "        if splitted[1]!= '':\n",
    "            start_year.append(splitted[0])\n",
    "            end_year.append(splitted[1])\n",
    "        else :\n",
    "            start_year.append(splitted[0])\n",
    "            end_year.append(\"Present\")\n",
    "    else :\n",
    "        start_year.append(year_released)\n",
    "        end_year.append(year_released)\n",
    "\n",
    "\n",
    "    time_element = data.p.find('span', class_='runtime')\n",
    "    if time_element is not None:\n",
    "        time_find = time_element.text.replace(' min', '')\n",
    "        runtime.append(time_find)\n",
    "    else:\n",
    "        runtime.append(\"None\")\n",
    "\n",
    "    genre_find = data.p.find('span', class_ = 'genre').text.replace('\\n ','').strip().split(',')\n",
    "    genre.append(genre_find)\n",
    "\n",
    "    rating_find = data.find('div', class_ ='inline-block ratings-imdb-rating').text.replace('\\n', '').strip()\n",
    "    rating.append(rating_find)\n",
    "\n",
    "    vote_find = data.find_all('span', attrs={'name':'nv'})\n",
    "    votes.append(vote_find[0].text)\n",
    "\n",
    "    desc_find = data.find_all('p', class_ = 'text-muted')\n",
    "    description.append(desc_find[1].text.replace('\\n', ''))\n",
    "\n",
    "    actors_find = data.find('p', class_ = '').text.replace('\\n', '').replace('Stars:','').strip().split(',')\n",
    "    actors.append(actors_find)\n"
   ]
  },
  {
   "cell_type": "code",
   "execution_count": 205,
   "metadata": {},
   "outputs": [],
   "source": [
    "data = {\n",
    "    'Rank' : rank,\n",
    "    'TV Series Title': series_title,\n",
    "    'Year Started': start_year,\n",
    "    'Year Ended': end_year,\n",
    "    'Duration': runtime,\n",
    "    'Genres': genre,\n",
    "    'Rating': rating,\n",
    "    'Votes': votes,\n",
    "    'Description': description,\n",
    "    'Actors': actors\n",
    "}\n",
    "\n",
    "newdata = pd.DataFrame(data)"
   ]
  },
  {
   "cell_type": "code",
   "execution_count": 206,
   "metadata": {},
   "outputs": [
    {
     "data": {
      "text/html": [
       "<div>\n",
       "<style scoped>\n",
       "    .dataframe tbody tr th:only-of-type {\n",
       "        vertical-align: middle;\n",
       "    }\n",
       "\n",
       "    .dataframe tbody tr th {\n",
       "        vertical-align: top;\n",
       "    }\n",
       "\n",
       "    .dataframe thead th {\n",
       "        text-align: right;\n",
       "    }\n",
       "</style>\n",
       "<table border=\"1\" class=\"dataframe\">\n",
       "  <thead>\n",
       "    <tr style=\"text-align: right;\">\n",
       "      <th></th>\n",
       "      <th>Rank</th>\n",
       "      <th>TV Series Title</th>\n",
       "      <th>Year Started</th>\n",
       "      <th>Year Ended</th>\n",
       "      <th>Duration</th>\n",
       "      <th>Genres</th>\n",
       "      <th>Rating</th>\n",
       "      <th>Votes</th>\n",
       "      <th>Description</th>\n",
       "      <th>Actors</th>\n",
       "    </tr>\n",
       "  </thead>\n",
       "  <tbody>\n",
       "    <tr>\n",
       "      <th>0</th>\n",
       "      <td>1</td>\n",
       "      <td>The Witcher</td>\n",
       "      <td>2019</td>\n",
       "      <td>Present</td>\n",
       "      <td>60</td>\n",
       "      <td>[Action,  Adventure,  Drama]</td>\n",
       "      <td>8.1</td>\n",
       "      <td>532,263</td>\n",
       "      <td>Geralt of Rivia, a solitary monster hunter, st...</td>\n",
       "      <td>[Henry Cavill,  Freya Allan,  Anya Chalotra,  ...</td>\n",
       "    </tr>\n",
       "    <tr>\n",
       "      <th>1</th>\n",
       "      <td>2</td>\n",
       "      <td>Black Mirror</td>\n",
       "      <td>2011</td>\n",
       "      <td>Present</td>\n",
       "      <td>60</td>\n",
       "      <td>[Drama,  Mystery,  Sci-Fi]</td>\n",
       "      <td>8.7</td>\n",
       "      <td>598,168</td>\n",
       "      <td>An anthology series exploring a twisted, high-...</td>\n",
       "      <td>[Wunmi Mosaku,  Monica Dolan,  Daniel Lapaine,...</td>\n",
       "    </tr>\n",
       "    <tr>\n",
       "      <th>2</th>\n",
       "      <td>3</td>\n",
       "      <td>The Bear</td>\n",
       "      <td>2022</td>\n",
       "      <td>Present</td>\n",
       "      <td>30</td>\n",
       "      <td>[Comedy,  Drama]</td>\n",
       "      <td>8.5</td>\n",
       "      <td>112,276</td>\n",
       "      <td>A young chef from the fine dining world return...</td>\n",
       "      <td>[Jeremy Allen White,  Ebon Moss-Bachrach,  Ayo...</td>\n",
       "    </tr>\n",
       "    <tr>\n",
       "      <th>3</th>\n",
       "      <td>4</td>\n",
       "      <td>Silo</td>\n",
       "      <td>2023</td>\n",
       "      <td>Present</td>\n",
       "      <td>None</td>\n",
       "      <td>[Drama,  Mystery,  Sci-Fi]</td>\n",
       "      <td>8.1</td>\n",
       "      <td>56,619</td>\n",
       "      <td>Men and women live in a giant silo underground...</td>\n",
       "      <td>[Rebecca Ferguson,  Common,  Tim Robbins,  Har...</td>\n",
       "    </tr>\n",
       "    <tr>\n",
       "      <th>4</th>\n",
       "      <td>5</td>\n",
       "      <td>Jack Ryan</td>\n",
       "      <td>2018</td>\n",
       "      <td>2023</td>\n",
       "      <td>60</td>\n",
       "      <td>[Action,  Drama,  Thriller]</td>\n",
       "      <td>8.0</td>\n",
       "      <td>155,570</td>\n",
       "      <td>Up-and-coming CIA analyst, Jack Ryan, is thrus...</td>\n",
       "      <td>[John Krasinski,  Wendell Pierce,  Michael Kel...</td>\n",
       "    </tr>\n",
       "    <tr>\n",
       "      <th>...</th>\n",
       "      <td>...</td>\n",
       "      <td>...</td>\n",
       "      <td>...</td>\n",
       "      <td>...</td>\n",
       "      <td>...</td>\n",
       "      <td>...</td>\n",
       "      <td>...</td>\n",
       "      <td>...</td>\n",
       "      <td>...</td>\n",
       "      <td>...</td>\n",
       "    </tr>\n",
       "    <tr>\n",
       "      <th>95</th>\n",
       "      <td>96</td>\n",
       "      <td>The Vampire Diaries</td>\n",
       "      <td>2009</td>\n",
       "      <td>2017</td>\n",
       "      <td>43</td>\n",
       "      <td>[Drama,  Fantasy,  Horror]</td>\n",
       "      <td>7.7</td>\n",
       "      <td>333,727</td>\n",
       "      <td>The lives, loves, dangers and disasters in the...</td>\n",
       "      <td>[Nina Dobrev,  Paul Wesley,  Ian Somerhalder, ...</td>\n",
       "    </tr>\n",
       "    <tr>\n",
       "      <th>96</th>\n",
       "      <td>97</td>\n",
       "      <td>The Last Kingdom</td>\n",
       "      <td>2015</td>\n",
       "      <td>2022</td>\n",
       "      <td>60</td>\n",
       "      <td>[Action,  Drama,  History]</td>\n",
       "      <td>8.5</td>\n",
       "      <td>155,838</td>\n",
       "      <td>As Alfred the Great defends his kingdom from N...</td>\n",
       "      <td>[Alexander Dreymon,  Eliza Butterworth,  Arnas...</td>\n",
       "    </tr>\n",
       "    <tr>\n",
       "      <th>97</th>\n",
       "      <td>98</td>\n",
       "      <td>Delete</td>\n",
       "      <td>2023</td>\n",
       "      <td>Present</td>\n",
       "      <td>45</td>\n",
       "      <td>[Drama,  Horror,  Romance]</td>\n",
       "      <td>6.3</td>\n",
       "      <td>786</td>\n",
       "      <td>A complicated relationship with secrets to hid...</td>\n",
       "      <td>[Natara Nopparatayapon,  Nat Kitcharit,  Sarik...</td>\n",
       "    </tr>\n",
       "    <tr>\n",
       "      <th>98</th>\n",
       "      <td>99</td>\n",
       "      <td>Riverdale</td>\n",
       "      <td>2017</td>\n",
       "      <td>2023</td>\n",
       "      <td>45</td>\n",
       "      <td>[Crime,  Drama,  Mystery]</td>\n",
       "      <td>6.5</td>\n",
       "      <td>149,847</td>\n",
       "      <td>While navigating the troubled waters of romanc...</td>\n",
       "      <td>[Lili Reinhart,  Camila Mendes,  Cole Sprouse,...</td>\n",
       "    </tr>\n",
       "    <tr>\n",
       "      <th>99</th>\n",
       "      <td>100</td>\n",
       "      <td>Bridgerton</td>\n",
       "      <td>2020</td>\n",
       "      <td>Present</td>\n",
       "      <td>60</td>\n",
       "      <td>[Drama,  History,  Romance]</td>\n",
       "      <td>7.4</td>\n",
       "      <td>153,246</td>\n",
       "      <td>The eight close-knit siblings of the Bridgerto...</td>\n",
       "      <td>[Nicola Coughlan,  Julie Andrews,  Luke Newton...</td>\n",
       "    </tr>\n",
       "  </tbody>\n",
       "</table>\n",
       "<p>100 rows × 10 columns</p>\n",
       "</div>"
      ],
      "text/plain": [
       "   Rank      TV Series Title Year Started Year Ended Duration  \\\n",
       "0     1          The Witcher         2019    Present       60   \n",
       "1     2         Black Mirror         2011    Present       60   \n",
       "2     3             The Bear         2022    Present       30   \n",
       "3     4                 Silo         2023    Present     None   \n",
       "4     5            Jack Ryan         2018       2023       60   \n",
       "..  ...                  ...          ...        ...      ...   \n",
       "95   96  The Vampire Diaries         2009       2017       43   \n",
       "96   97     The Last Kingdom         2015       2022       60   \n",
       "97   98               Delete         2023    Present       45   \n",
       "98   99            Riverdale         2017       2023       45   \n",
       "99  100           Bridgerton         2020    Present       60   \n",
       "\n",
       "                          Genres Rating    Votes  \\\n",
       "0   [Action,  Adventure,  Drama]    8.1  532,263   \n",
       "1     [Drama,  Mystery,  Sci-Fi]    8.7  598,168   \n",
       "2               [Comedy,  Drama]    8.5  112,276   \n",
       "3     [Drama,  Mystery,  Sci-Fi]    8.1   56,619   \n",
       "4    [Action,  Drama,  Thriller]    8.0  155,570   \n",
       "..                           ...    ...      ...   \n",
       "95    [Drama,  Fantasy,  Horror]    7.7  333,727   \n",
       "96    [Action,  Drama,  History]    8.5  155,838   \n",
       "97    [Drama,  Horror,  Romance]    6.3      786   \n",
       "98     [Crime,  Drama,  Mystery]    6.5  149,847   \n",
       "99   [Drama,  History,  Romance]    7.4  153,246   \n",
       "\n",
       "                                          Description  \\\n",
       "0   Geralt of Rivia, a solitary monster hunter, st...   \n",
       "1   An anthology series exploring a twisted, high-...   \n",
       "2   A young chef from the fine dining world return...   \n",
       "3   Men and women live in a giant silo underground...   \n",
       "4   Up-and-coming CIA analyst, Jack Ryan, is thrus...   \n",
       "..                                                ...   \n",
       "95  The lives, loves, dangers and disasters in the...   \n",
       "96  As Alfred the Great defends his kingdom from N...   \n",
       "97  A complicated relationship with secrets to hid...   \n",
       "98  While navigating the troubled waters of romanc...   \n",
       "99  The eight close-knit siblings of the Bridgerto...   \n",
       "\n",
       "                                               Actors  \n",
       "0   [Henry Cavill,  Freya Allan,  Anya Chalotra,  ...  \n",
       "1   [Wunmi Mosaku,  Monica Dolan,  Daniel Lapaine,...  \n",
       "2   [Jeremy Allen White,  Ebon Moss-Bachrach,  Ayo...  \n",
       "3   [Rebecca Ferguson,  Common,  Tim Robbins,  Har...  \n",
       "4   [John Krasinski,  Wendell Pierce,  Michael Kel...  \n",
       "..                                                ...  \n",
       "95  [Nina Dobrev,  Paul Wesley,  Ian Somerhalder, ...  \n",
       "96  [Alexander Dreymon,  Eliza Butterworth,  Arnas...  \n",
       "97  [Natara Nopparatayapon,  Nat Kitcharit,  Sarik...  \n",
       "98  [Lili Reinhart,  Camila Mendes,  Cole Sprouse,...  \n",
       "99  [Nicola Coughlan,  Julie Andrews,  Luke Newton...  \n",
       "\n",
       "[100 rows x 10 columns]"
      ]
     },
     "execution_count": 206,
     "metadata": {},
     "output_type": "execute_result"
    }
   ],
   "source": [
    "newdata"
   ]
  },
  {
   "cell_type": "code",
   "execution_count": 207,
   "metadata": {},
   "outputs": [
    {
     "data": {
      "text/plain": [
       "Rank               0\n",
       "TV Series Title    0\n",
       "Year Started       0\n",
       "Year Ended         0\n",
       "Duration           0\n",
       "Genres             0\n",
       "Rating             0\n",
       "Votes              0\n",
       "Description        0\n",
       "Actors             0\n",
       "dtype: int64"
      ]
     },
     "execution_count": 207,
     "metadata": {},
     "output_type": "execute_result"
    }
   ],
   "source": [
    "newdata.isnull().sum()"
   ]
  },
  {
   "cell_type": "code",
   "execution_count": 208,
   "metadata": {},
   "outputs": [
    {
     "data": {
      "text/plain": [
       "True"
      ]
     },
     "execution_count": 208,
     "metadata": {},
     "output_type": "execute_result"
    }
   ],
   "source": [
    "newdata['Rank'].is_unique"
   ]
  },
  {
   "cell_type": "code",
   "execution_count": 209,
   "metadata": {},
   "outputs": [
    {
     "data": {
      "text/plain": [
       "True"
      ]
     },
     "execution_count": 209,
     "metadata": {},
     "output_type": "execute_result"
    }
   ],
   "source": [
    "newdata['TV Series Title'].is_unique"
   ]
  },
  {
   "cell_type": "code",
   "execution_count": 210,
   "metadata": {},
   "outputs": [],
   "source": [
    "finaldata = newdata.to_json(orient='records', indent=2)"
   ]
  },
  {
   "cell_type": "code",
   "execution_count": 211,
   "metadata": {},
   "outputs": [],
   "source": [
    "filepath = '/Users/rana/Downloads/finaldata.json'\n",
    "with open(filepath, 'w') as json_file:\n",
    "    json_file.write(finaldata)"
   ]
  },
  {
   "cell_type": "code",
   "execution_count": 212,
   "metadata": {},
   "outputs": [],
   "source": [
    "path = '/Users/rana/Downloads/finaldata.csv'\n",
    "newdata.to_csv(path, index=False)"
   ]
  }
 ],
 "metadata": {
  "interpreter": {
   "hash": "aee8b7b246df8f9039afb4144a1f6fd8d2ca17a180786b69acc140d282b71a49"
  },
  "kernelspec": {
   "display_name": "Python 3.9.6 64-bit",
   "language": "python",
   "name": "python3"
  },
  "language_info": {
   "codemirror_mode": {
    "name": "ipython",
    "version": 3
   },
   "file_extension": ".py",
   "mimetype": "text/x-python",
   "name": "python",
   "nbconvert_exporter": "python",
   "pygments_lexer": "ipython3",
   "version": "3.9.6"
  },
  "orig_nbformat": 4
 },
 "nbformat": 4,
 "nbformat_minor": 2
}

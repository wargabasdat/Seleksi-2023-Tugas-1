{
 "cells": [
  {
   "cell_type": "code",
   "execution_count": 1,
   "id": "ca16ee96",
   "metadata": {},
   "outputs": [],
   "source": [
    "import requests\n",
    "from bs4 import BeautifulSoup"
   ]
  },
  {
   "cell_type": "code",
   "execution_count": 2,
   "id": "8e5e79d4",
   "metadata": {},
   "outputs": [],
   "source": [
    "# Request\n",
    "url ='https://fbref.com/en/squads/53a2f082/2022-2023/all_comps/Real-Madrid-Stats-All-Competitions#all_stats_standard'\n",
    "data = requests.get(url)"
   ]
  },
  {
   "cell_type": "code",
   "execution_count": 3,
   "id": "5134f942",
   "metadata": {},
   "outputs": [],
   "source": [
    "soup = BeautifulSoup(data.text)\n",
    "players_table = soup.select('table.stats_table')[0]"
   ]
  },
  {
   "cell_type": "code",
   "execution_count": 4,
   "id": "856cad62",
   "metadata": {},
   "outputs": [],
   "source": [
    "links = players_table.find_all('a')\n",
    "links = [l.get(\"href\") for l in links]"
   ]
  },
  {
   "cell_type": "code",
   "execution_count": 5,
   "id": "269b0165",
   "metadata": {},
   "outputs": [],
   "source": [
    "country_links = []\n",
    "player_links = []\n",
    "\n",
    "for link in links:\n",
    "    parts = link.split(\"/\")\n",
    "    if parts[2] == \"country\":\n",
    "        country_links.append(\"https://fbref.com\" +link)\n",
    "    elif parts[2] == \"players\":\n",
    "        if 'matchlogs' not in link:\n",
    "            player_links.append(\"https://fbref.com\" +link)\n"
   ]
  },
  {
   "cell_type": "code",
   "execution_count": 18,
   "id": "6f0df49f",
   "metadata": {},
   "outputs": [
    {
     "data": {
      "text/plain": [
       "['https://fbref.com/en/players/7111d552/Vinicius-Junior',\n",
       " 'https://fbref.com/en/players/1840e36d/Thibaut-Courtois',\n",
       " 'https://fbref.com/en/players/2784f898/Eder-Militao',\n",
       " 'https://fbref.com/en/players/0959c2a2/Federico-Valverde',\n",
       " 'https://fbref.com/en/players/8f5e92a6/Rodrygo',\n",
       " 'https://fbref.com/en/players/18b896d6/Antonio-Rudiger',\n",
       " 'https://fbref.com/en/players/6ce1f46f/Toni-Kroos',\n",
       " 'https://fbref.com/en/players/70d74ece/Karim-Benzema',\n",
       " 'https://fbref.com/en/players/7b9c2d84/Eduardo-Camavinga',\n",
       " 'https://fbref.com/en/players/4958bfb2/Dani-Carvajal',\n",
       " 'https://fbref.com/en/players/6025fab1/Luka-Modric',\n",
       " 'https://fbref.com/en/players/05439de2/David-Alaba',\n",
       " 'https://fbref.com/en/players/4f255115/Aurelien-Tchouameni',\n",
       " 'https://fbref.com/en/players/2946f9a1/Nacho',\n",
       " 'https://fbref.com/en/players/3cefcaef/Ferland-Mendy',\n",
       " 'https://fbref.com/en/players/45af8a54/Marco-Asensio',\n",
       " 'https://fbref.com/en/players/c0617e2b/Dani-Ceballos',\n",
       " 'https://fbref.com/en/players/fd51b456/Lucas-Vazquez',\n",
       " 'https://fbref.com/en/players/3061e1ec/Andriy-Lunin',\n",
       " 'https://fbref.com/en/players/a39bb753/Eden-Hazard',\n",
       " 'https://fbref.com/en/players/5c4dc0ff/Mariano',\n",
       " 'https://fbref.com/en/players/49a6ecbb/Alvaro-Munoz',\n",
       " 'https://fbref.com/en/players/4d224fe8/Casemiro',\n",
       " 'https://fbref.com/en/players/1d1691ad/Alvaro-Odriozola',\n",
       " 'https://fbref.com/en/players/c2111b45/Jesus-Vallejo',\n",
       " 'https://fbref.com/en/players/1e465e70/Sergio-Arribas',\n",
       " 'https://fbref.com/en/players/a9aff11a/Mario-Martin',\n",
       " 'https://fbref.com/en/players/ccb491d0/Luis-Lopez',\n",
       " 'https://fbref.com/en/players/daa2eab3/Carlos-Dotor',\n",
       " 'https://fbref.com/en/players/7e84906e/Lucas-Canizares',\n",
       " 'https://fbref.com/en/players/3813d6d4/Mario-de-Luis',\n",
       " 'https://fbref.com/en/players/ea04fa41/Fran-Gonzalez',\n",
       " 'https://fbref.com/en/players/ef6a4afe/Diego-Pineiro',\n",
       " 'https://fbref.com/en/players/01bb93d5/Nicolas-Paz',\n",
       " 'https://fbref.com/en/players/880d7ee5/Vinicius-Tobias',\n",
       " 'https://fbref.com/en/players/49d089cd/Marvel']"
      ]
     },
     "execution_count": 18,
     "metadata": {},
     "output_type": "execute_result"
    }
   ],
   "source": [
    "player_links"
   ]
  },
  {
   "cell_type": "code",
   "execution_count": 19,
   "id": "a12921d0",
   "metadata": {},
   "outputs": [
    {
     "data": {
      "text/plain": [
       "['https://fbref.com/en/country/BRA/Brazil-Football',\n",
       " 'https://fbref.com/en/country/BEL/Belgium-Football',\n",
       " 'https://fbref.com/en/country/BRA/Brazil-Football',\n",
       " 'https://fbref.com/en/country/URU/Uruguay-Football',\n",
       " 'https://fbref.com/en/country/BRA/Brazil-Football',\n",
       " 'https://fbref.com/en/country/GER/Germany-Football',\n",
       " 'https://fbref.com/en/country/GER/Germany-Football',\n",
       " 'https://fbref.com/en/country/FRA/France-Football',\n",
       " 'https://fbref.com/en/country/FRA/France-Football',\n",
       " 'https://fbref.com/en/country/ESP/Spain-Football',\n",
       " 'https://fbref.com/en/country/CRO/Croatia-Football',\n",
       " 'https://fbref.com/en/country/AUT/Austria-Football',\n",
       " 'https://fbref.com/en/country/FRA/France-Football',\n",
       " 'https://fbref.com/en/country/ESP/Spain-Football',\n",
       " 'https://fbref.com/en/country/FRA/France-Football',\n",
       " 'https://fbref.com/en/country/ESP/Spain-Football',\n",
       " 'https://fbref.com/en/country/ESP/Spain-Football',\n",
       " 'https://fbref.com/en/country/ESP/Spain-Football',\n",
       " 'https://fbref.com/en/country/UKR/Ukraine-Football',\n",
       " 'https://fbref.com/en/country/BEL/Belgium-Football',\n",
       " 'https://fbref.com/en/country/DOM/Dominican-Republic-Football',\n",
       " 'https://fbref.com/en/country/URU/Uruguay-Football',\n",
       " 'https://fbref.com/en/country/BRA/Brazil-Football',\n",
       " 'https://fbref.com/en/country/ESP/Spain-Football',\n",
       " 'https://fbref.com/en/country/ESP/Spain-Football',\n",
       " 'https://fbref.com/en/country/ESP/Spain-Football',\n",
       " 'https://fbref.com/en/country/ESP/Spain-Football',\n",
       " 'https://fbref.com/en/country/ESP/Spain-Football',\n",
       " 'https://fbref.com/en/country/ESP/Spain-Football',\n",
       " 'https://fbref.com/en/country/ESP/Spain-Football',\n",
       " 'https://fbref.com/en/country/ESP/Spain-Football',\n",
       " 'https://fbref.com/en/country/ESP/Spain-Football',\n",
       " 'https://fbref.com/en/country/ESP/Spain-Football',\n",
       " 'https://fbref.com/en/country/ARG/Argentina-Football',\n",
       " 'https://fbref.com/en/country/BRA/Brazil-Football',\n",
       " 'https://fbref.com/en/country/ESP/Spain-Football']"
      ]
     },
     "execution_count": 19,
     "metadata": {},
     "output_type": "execute_result"
    }
   ],
   "source": [
    "country_links"
   ]
  },
  {
   "cell_type": "code",
   "execution_count": 10,
   "id": "fe307ff3",
   "metadata": {},
   "outputs": [],
   "source": [
    "player_img_links = []\n",
    "\n",
    "for url_player in player_links:\n",
    "    data_player = requests.get(url_player)\n",
    "    soup_player = BeautifulSoup(data_player.text)\n",
    "    soup_img = soup_player.find_all('img')\n",
    "    player_img_links.append(soup_img[1]['src'])"
   ]
  },
  {
   "cell_type": "code",
   "execution_count": 12,
   "id": "0a89fe8b",
   "metadata": {},
   "outputs": [],
   "source": [
    "import pandas as pd\n",
    "df = pd.DataFrame(player_img_links,columns=['URL'])"
   ]
  },
  {
   "cell_type": "code",
   "execution_count": 13,
   "id": "5978c01f",
   "metadata": {},
   "outputs": [],
   "source": [
    "df['PlayerID'] = df.index+1"
   ]
  },
  {
   "cell_type": "code",
   "execution_count": 14,
   "id": "2619ca59",
   "metadata": {},
   "outputs": [],
   "source": [
    "df = df[['PlayerID','URL']]\n",
    "df.to_csv('player_image2.csv',index=False)"
   ]
  }
 ],
 "metadata": {
  "kernelspec": {
   "display_name": "Python 3 (ipykernel)",
   "language": "python",
   "name": "python3"
  },
  "language_info": {
   "codemirror_mode": {
    "name": "ipython",
    "version": 3
   },
   "file_extension": ".py",
   "mimetype": "text/x-python",
   "name": "python",
   "nbconvert_exporter": "python",
   "pygments_lexer": "ipython3",
   "version": "3.10.9"
  }
 },
 "nbformat": 4,
 "nbformat_minor": 5
}

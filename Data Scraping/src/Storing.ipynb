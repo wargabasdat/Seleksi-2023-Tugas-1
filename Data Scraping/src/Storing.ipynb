{
 "cells": [
  {
   "cell_type": "code",
   "execution_count": 60,
   "metadata": {},
   "outputs": [],
   "source": [
    "import psycopg2\n",
    "import json\n",
    "import pandas as pd   #to create dataframe\n",
    "import requests       #to send request to the URL\n",
    "from bs4 import BeautifulSoup #to get the content in the form of HTML\n",
    "\n",
    "#establishing the connection\n",
    "conn = psycopg2.connect(\n",
    "   database=\"tvseries\", user='rana', password='password', host='localhost', port= '5432'\n",
    ")\n",
    "\n",
    "#Creating a cursor object using the cursor() method\n",
    "cursor = conn.cursor()\n"
   ]
  },
  {
   "cell_type": "code",
   "execution_count": 61,
   "metadata": {},
   "outputs": [],
   "source": [
    "#create table queries\n",
    "sql_stud = '''CREATE TABLE studios (\n",
    "studio_name VARCHAR(255),\n",
    "year_created INT,\n",
    "address VARCHAR(255),\n",
    "PRIMARY KEY (studio_name))'''\n",
    "\n",
    "sql_users = '''CREATE TABLE users (\n",
    "user_id char(8),\n",
    "username VARCHAR(50),\n",
    "first_name VARCHAR(255),\n",
    "last_name VARCHAR(255),\n",
    "PRIMARY KEY (user_id))'''\n",
    "\n",
    "sql_casts = '''CREATE TABLE casts (                                                 \n",
    "actor_names varchar(255) UNIQUE,\n",
    "genders varchar(50),\n",
    "nationalities varchar(50),\n",
    "birth_dates date,\n",
    "PRIMARY KEY (actor_names))'''\n",
    "\n",
    "sql_chars = '''CREATE TABLE character (                                                 \n",
    "char_names varchar(255),\n",
    "role varchar(50),\n",
    "actor_names varchar(255),\n",
    "PRIMARY KEY(char_names),\n",
    "FOREIGN KEY(actor_names) references casts(actor_names))'''\n",
    "\n",
    "sql_tvseries = '''CREATE TABLE tv_series(                                                 \n",
    "series_title varchar(255) ,\n",
    "start_year char(10) ,\n",
    "end_year char(10) ,\n",
    "seasons int,\n",
    "rank int,\n",
    "runtime varchar(50),\n",
    "finalrate float,\n",
    "director varchar(255) ,\n",
    "status varchar(50) ,\n",
    "description varchar(300),\n",
    "genres varchar(255) ,\n",
    "studio_name varchar(255),\n",
    "char_names varchar(255),\n",
    "pRIMARY KEY(series_title),\n",
    "FOREIGN KEY(studio_name) REFERENCES studios(studio_name), \n",
    "FOREIGN KEY(char_names) REFERENCES character(char_names));'''\n",
    "\n",
    "sql_episodes = '''CREATE TABLE episodes(                                                   \n",
    "episode_title varchar(255),\n",
    "air_date date,\n",
    "description varchar(255),\n",
    "series_title varchar(255),\n",
    "PRIMARY KEY(episode_title),\n",
    "FOREIGN KEY(series_title) REFERENCES tv_series(series_title))'''\n",
    "\n",
    "sql_rating = '''CREATE TABLE rating(\n",
    "user_id char(8),\n",
    "series_title varchar(255),\n",
    "rating float,\n",
    "comment varchar(255),primary key(user_id,series_title),\n",
    "FOREIGN KEY (user_id) REFERENCES users(user_id), FOREIGN KEY (series_title) references tv_series(series_title))'''\n"
   ]
  },
  {
   "cell_type": "code",
   "execution_count": 62,
   "metadata": {},
   "outputs": [],
   "source": [
    "#executing queries\n",
    "cursor.execute(sql_stud)\n",
    "cursor.execute(sql_users)\n",
    "cursor.execute(sql_casts)\n",
    "cursor.execute(sql_chars)\n",
    "cursor.execute(sql_tvseries)\n",
    "cursor.execute(sql_episodes)\n",
    "cursor.execute(sql_rating)"
   ]
  },
  {
   "cell_type": "code",
   "execution_count": 63,
   "metadata": {},
   "outputs": [],
   "source": [
    "with open('/Users/rana/Downloads/finaldata.json') as docs:\n",
    "        records = json.load(docs)\n",
    "\n",
    "        for doc in records:\n",
    "                ranked = doc['Rank']\n",
    "                tvseries_title = doc['TV Series Title']\n",
    "                start_y = doc['Year Started']\n",
    "                end_y = doc['Year Ended']\n",
    "                runtime = doc['Duration']\n",
    "                genre = doc['Genres']\n",
    "                rating = doc['Rating']\n",
    "                votes = doc['Votes']\n",
    "                description = doc['Description']\n",
    "                actors = doc['Actors']\n",
    "\n",
    "                genre_str = \", \".join(genre)  # Convert the genre list to a string\n",
    "\n",
    "                # Escape the square brackets in the genre string\n",
    "                genre_str = genre_str.replace(\"[\", \"\\\\[\")\n",
    "                genre_str = genre_str.replace(\"]\", \"\\\\]\").strip()\n",
    "\n",
    "                sql_inserttv = \"INSERT INTO tv_series(series_title, start_year, end_year, genres, rank, description, runtime, finalrate) VALUES (%s, %s, %s, %s, %s, %s, %s, %s)\"\n",
    "                cursor.execute(sql_inserttv, (tvseries_title, start_y, end_y, genre_str, ranked, description, runtime, rating))\n",
    "\n",
    "                for actor in actors : \n",
    "                         actor_name = actor.strip()  # Remove leading/trailing whitespaces if any\n",
    "\n",
    "                        # Construct the SQL statement\n",
    "                         sql_insertactors = \"INSERT INTO casts(actor_names) VALUES (%s) ON CONFLICT DO NOTHING\"\n",
    "                         cursor.execute(sql_insertactors, (actor_name,))\n",
    "\n"
   ]
  },
  {
   "cell_type": "code",
   "execution_count": 64,
   "metadata": {},
   "outputs": [
    {
     "name": "stdout",
     "output_type": "stream",
     "text": [
      "('Henry Cavill', None, None, None)\n"
     ]
    }
   ],
   "source": [
    "cursor.execute('''SELECT * from casts''')\n",
    "result = cursor.fetchone();\n",
    "print(result)"
   ]
  },
  {
   "cell_type": "code",
   "execution_count": 65,
   "metadata": {},
   "outputs": [],
   "source": [
    "conn.commit()\n",
    "\n",
    "cursor.close()\n",
    "conn.close()"
   ]
  }
 ],
 "metadata": {
  "interpreter": {
   "hash": "aee8b7b246df8f9039afb4144a1f6fd8d2ca17a180786b69acc140d282b71a49"
  },
  "kernelspec": {
   "display_name": "Python 3.9.6 64-bit",
   "language": "python",
   "name": "python3"
  },
  "language_info": {
   "codemirror_mode": {
    "name": "ipython",
    "version": 3
   },
   "file_extension": ".py",
   "mimetype": "text/x-python",
   "name": "python",
   "nbconvert_exporter": "python",
   "pygments_lexer": "ipython3",
   "version": "3.9.6"
  },
  "orig_nbformat": 4
 },
 "nbformat": 4,
 "nbformat_minor": 2
}

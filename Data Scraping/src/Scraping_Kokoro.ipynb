{
 "cells": [
  {
   "attachments": {},
   "cell_type": "markdown",
   "id": "842ca6d9",
   "metadata": {},
   "source": [
    "# Web scrapping"
   ]
  },
  {
   "attachments": {},
   "cell_type": "markdown",
   "id": "7d811e54",
   "metadata": {},
   "source": [
    "## import modules needded"
   ]
  },
  {
   "cell_type": "code",
   "execution_count": 33,
   "id": "7e831635",
   "metadata": {},
   "outputs": [],
   "source": [
    "#import seluruh library yang diperlukan\n",
    "from selenium import webdriver\n",
    "from selenium.webdriver.chrome.service import Service\n",
    "from bs4 import BeautifulSoup\n",
    "import pandas as pd \n",
    "import time"
   ]
  },
  {
   "attachments": {},
   "cell_type": "markdown",
   "id": "972eb58b",
   "metadata": {},
   "source": [
    "## Formating function"
   ]
  },
  {
   "cell_type": "code",
   "execution_count": 34,
   "id": "206f38e7",
   "metadata": {},
   "outputs": [],
   "source": [
    "def generate_url(search_key):\n",
    "    link = 'https://kokorojapanstore.com'\n",
    "    search_key= search_key.replace(' ', '-')\n",
    "    search_key= search_key.lower()\n",
    "    link = link+'/collections/'+search_key\n",
    "    return link\n",
    "\n",
    "#data cleansing function for price\n",
    "def convert_price(string_value):\n",
    "    string_value = string_value.replace(\"¥\", \"\").replace(\",\", \"\")\n",
    "    float_value = float(string_value)\n",
    "    return float_value\n",
    "\n",
    "\n",
    "#data cleansing function for ratings\n",
    "def convert_rating(string_value):\n",
    "    float_value = float(string_value)\n",
    "    return float_value\n",
    "\n",
    "#data cleansing function for count_review\n",
    "def convert_review(string_value):\n",
    "    integer_value = 0\n",
    "    if(string_value != \"\"):\n",
    "        digits = ''.join(filter(str.isdigit, string_value))\n",
    "        integer_value = int(digits)\n",
    "    return integer_value"
   ]
  },
  {
   "attachments": {},
   "cell_type": "markdown",
   "id": "1fb0c8af",
   "metadata": {},
   "source": [
    "## Function to Load HTML from Web"
   ]
  },
  {
   "cell_type": "code",
   "execution_count": 35,
   "id": "2e44c558",
   "metadata": {},
   "outputs": [],
   "source": [
    "def load_html(search_key):\n",
    "    link = generate_url(search_key)\n",
    "\n",
    "    #setting up to chrome option headless so it will run without GUI\n",
    "    option = webdriver.ChromeOptions()\n",
    "    option.add_argument('--headless')\n",
    "\n",
    "    #Creating chrome driver service\n",
    "    servis = Service('chromedriver.exe')\n",
    "\n",
    "    #instantiating chrome driver\n",
    "    driver = webdriver.Chrome(service=servis, options=option)\n",
    "    driver.get(link)\n",
    "    \n",
    "    #Scrollong down the web page.\n",
    "    scroll = 1000\n",
    "    for i in range(1,13):\n",
    "        end = scroll * i\n",
    "        command = \"window.scrollTo(0,\"+str(end)+\")\"\n",
    "        driver.execute_script(command)\n",
    "        time.sleep(1)\n",
    "    \n",
    "    time.sleep(5)\n",
    "    body = driver.page_source\n",
    "    driver.quit()\n",
    "    \n",
    "    return body"
   ]
  },
  {
   "attachments": {},
   "cell_type": "markdown",
   "id": "7577bb45",
   "metadata": {},
   "source": [
    "## Function to extract information from the HTML"
   ]
  },
  {
   "cell_type": "code",
   "execution_count": 36,
   "id": "d2130dec",
   "metadata": {},
   "outputs": [],
   "source": [
    "def extract_data(data):\n",
    "    \n",
    "    #Extratcting product name rom the HTML tag\n",
    "    product = data.find('div',class_=\"product--title\").get_text()\n",
    "\n",
    "    #Extracting normal_price from the HTML tag   \n",
    "    prices = data.find_all('span',class_=\"money\")\n",
    "    prices =[price.get_text() for price in prices]\n",
    "    normal_price = prices[0]\n",
    "    real_normal_price = convert_price(normal_price)\n",
    "    real_sale_price = convert_price(normal_price)\n",
    "\n",
    "    #extracting status of the product from the HTML tag\n",
    "    status = 'Not sale'\n",
    "    if(data.find('span').get_text() == 'Sale' or data.find('span').get_text() == 'Sold out'):\n",
    "        status = data.find('span').get_text()\n",
    "        \n",
    "        #extract sale price if the status of product is sale\n",
    "        if(status == 'Sale'):\n",
    "            sale_price=prices[1]\n",
    "            real_sale_price= convert_price(sale_price)\n",
    "        \n",
    "            \n",
    "        \n",
    "    #Extracting rating of the prodyct from the HTML tag\n",
    "    rating = data.find('span',class_=\"stamped-badge\").get('data-rating')\n",
    "    real_rating = convert_rating(rating)\n",
    "        \n",
    "    #Extracting rating of the prodyct from the HTML tag\n",
    "    review = data.find('span',class_=\"stamped-badge-caption\").get_text()\n",
    "    real_review = convert_review(review)\n",
    "        \n",
    "    record = [product, status, real_normal_price,real_sale_price,real_rating,real_review]\n",
    "        \n",
    "        \n",
    "    return record"
   ]
  },
  {
   "attachments": {},
   "cell_type": "markdown",
   "id": "607ac6d7",
   "metadata": {},
   "source": [
    "## Function to create Json File using Pandas data frame"
   ]
  },
  {
   "cell_type": "code",
   "execution_count": 37,
   "id": "15c69de1",
   "metadata": {},
   "outputs": [],
   "source": [
    "def pandas_to_jsonFile(records):\n",
    "    coloumns=['Product_name','status','normal_price','sale_price','ratings','count_reviews']\n",
    "    \n",
    "    #create dataframe\n",
    "    df = pd.DataFrame(records, columns= coloumns)\n",
    "    \n",
    "    #convert dataframe into json format\n",
    "    json_data = df.to_json(orient='records',indent=4)\n",
    "    with open('Kokoro_Best_Sellers.json', 'w',encoding='utf-8') as file:\n",
    "        file.write(json_data)\n"
   ]
  },
  {
   "attachments": {},
   "cell_type": "markdown",
   "id": "cb1b86aa",
   "metadata": {},
   "source": [
    "## Function to create csv File using Pandas data frame"
   ]
  },
  {
   "cell_type": "code",
   "execution_count": 38,
   "id": "2efeb600",
   "metadata": {},
   "outputs": [],
   "source": [
    "def pandas_to_csv(records):\n",
    "    coloumns=['Product_name','status','normal_price','sale_price','ratings','count_reviews']\n",
    "    \n",
    "    #create dataframe\n",
    "    df = pd.DataFrame(records, columns= coloumns)\n",
    "    \n",
    "    #convert dataframe into csv\n",
    "    df.to_csv('Kokoro_Best_sellers.csv',index=False)"
   ]
  },
  {
   "attachments": {},
   "cell_type": "markdown",
   "id": "ddb7acfc",
   "metadata": {},
   "source": [
    "## Main Function"
   ]
  },
  {
   "cell_type": "code",
   "execution_count": 39,
   "id": "e39a96ea",
   "metadata": {},
   "outputs": [],
   "source": [
    "def main(search_key):\n",
    "    records = []\n",
    "    \n",
    "    body = load_html(search_key)\n",
    "    \n",
    "    #HTML parsing\n",
    "    soup = BeautifulSoup(body,'html.parser')\n",
    "\n",
    "    #datas contain all of product\n",
    "    datas = soup.find_all('article',class_=\"product--root\")\n",
    "    \n",
    "    #extractinfg information for each product\n",
    "    i = 0\n",
    "    for data in datas:\n",
    "        i += 1\n",
    "        record = extract_data(data)\n",
    "        records.append(record)\n",
    "    \n",
    "    #create JSON file\n",
    "    pandas_to_jsonFile(records)\n",
    "    \n",
    "    #Create csv file\n",
    "    pandas_to_csv(records)\n",
    "    \n",
    "    print(\"Berhasil melakukan scraping dengan jumlah data \",i)\n",
    "    print(\"Scraping Selesai!\")\n",
    "    \n",
    "    "
   ]
  },
  {
   "cell_type": "code",
   "execution_count": 40,
   "id": "c7cc05d0",
   "metadata": {},
   "outputs": [
    {
     "name": "stdout",
     "output_type": "stream",
     "text": [
      "Berhasil melakukan scraping dengan jumlah data  130\n",
      "Scraping Selesai!\n"
     ]
    }
   ],
   "source": [
    "main('top 100 best sellers')"
   ]
  },
  {
   "cell_type": "code",
   "execution_count": null,
   "id": "61f3e5a8",
   "metadata": {},
   "outputs": [],
   "source": []
  }
 ],
 "metadata": {
  "kernelspec": {
   "display_name": "Python 3 (ipykernel)",
   "language": "python",
   "name": "python3"
  },
  "language_info": {
   "codemirror_mode": {
    "name": "ipython",
    "version": 3
   },
   "file_extension": ".py",
   "mimetype": "text/x-python",
   "name": "python",
   "nbconvert_exporter": "python",
   "pygments_lexer": "ipython3",
   "version": "3.11.4"
  }
 },
 "nbformat": 4,
 "nbformat_minor": 5
}
